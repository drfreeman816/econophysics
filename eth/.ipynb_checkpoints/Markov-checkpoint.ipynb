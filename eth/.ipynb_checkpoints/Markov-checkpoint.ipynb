{
 "cells": [
  {
   "cell_type": "code",
   "execution_count": null,
   "metadata": {
    "collapsed": true
   },
   "outputs": [],
   "source": [
    "# Date parsing libs\n",
    "import datetime as dt\n",
    "import calendar\n",
    "# Numerical libs\n",
    "import numpy as np\n",
    "# Linear regression\n",
    "from scipy import stats\n",
    "# Kernel Density Estimation lib\n",
    "from sklearn.neighbors import KernelDensity\n",
    "# Plotting\n",
    "import matplotlib.pyplot as plt\n",
    "import matplotlib.dates as pltdates\n",
    "%matplotlib inline\n",
    "\n",
    "# Open data file\n",
    "data_file = open('eth.dat', 'r')\n",
    "\n",
    "# Data arrays\n",
    "price_date = []\n",
    "open_price = np.array([])\n",
    "high_price = np.array([])\n",
    "low_price = np.array([])\n",
    "close_price = np.array([])\n",
    "volume = np.array([])\n",
    "m_cap = np.array([])\n",
    "\n",
    "# Read data file line by line\n",
    "for line in data_file:\n",
    "    if not line.startswith('#'): # Skip comments\n",
    "        row = line.split()\n",
    "        # Date parsing \n",
    "        month = list(calendar.month_abbr).index(row[0])\n",
    "        price_date.insert(0, dt.date(int(row[2]), month, int(row[1])))\n",
    "        # Data parsing\n",
    "        open_price = np.insert(open_price, 0, float(row[3]), axis=0)\n",
    "        high_price = np.insert(high_price, 0, float(row[4]), axis=0)\n",
    "        low_price = np.insert(low_price, 0, float(row[5]), axis=0)\n",
    "        close_price = np.insert(close_price, 0, float(row[6]), axis=0)\n",
    "        volume = np.insert(volume, 0, float(row[7]), axis=0)\n",
    "        m_cap = np.insert(m_cap, 0, float(row[8]), axis=0)\n",
    "\n",
    "# Dataset size\n",
    "data_size = close_price.size\n",
    "print ('Dataset size = ', data_size)\n",
    "\n",
    "# Plot dataset\n",
    "plt.figure(figsize=(10,10))\n",
    "plt.title('Dataset')\n",
    "plt.ylabel('USD', fontsize=16)\n",
    "plt.gca().xaxis.set_major_formatter(pltdates.DateFormatter('%d/%m/%Y'))\n",
    "#plt.gca().xaxis.set_major_locator(pltdates.DayLocator())\n",
    "plt.plot(price_date, close_price, 'b', linewidth=0.5)\n",
    "plt.gcf().autofmt_xdate()\n",
    "plt.show()"
   ]
  },
  {
   "cell_type": "code",
   "execution_count": null,
   "metadata": {
    "collapsed": true
   },
   "outputs": [],
   "source": [
    "# Define return\n",
    "r = np.log(close_price) - np.log(np.roll(close_price, 1))\n",
    "r = np.delete(r, [0,1])\n",
    "price_date = np.delete(price_date, [0,1])\n",
    "\n",
    "# Plot return\n",
    "plt.figure(figsize=(10,10))\n",
    "plt.title('ln(Return)')\n",
    "plt.gca().xaxis.set_major_formatter(pltdates.DateFormatter('%d/%m/%Y'))\n",
    "plt.plot(price_date, r, 'b', linewidth=0.5)\n",
    "plt.gcf().autofmt_xdate()\n",
    "plt.show()"
   ]
  }
 ],
 "metadata": {
  "kernelspec": {
   "display_name": "Python 3",
   "language": "python",
   "name": "python3"
  }
 },
 "nbformat": 4,
 "nbformat_minor": 2
}
